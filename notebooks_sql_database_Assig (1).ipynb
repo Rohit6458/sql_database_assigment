{
  "metadata": {
    "kernelspec": {
      "name": "python",
      "display_name": "Python (Pyodide)",
      "language": "python"
    },
    "language_info": {
      "codemirror_mode": {
        "name": "python",
        "version": 3
      },
      "file_extension": ".py",
      "mimetype": "text/x-python",
      "name": "python",
      "nbconvert_exporter": "python",
      "pygments_lexer": "ipython3",
      "version": "3.8"
    }
  },
  "nbformat_minor": 5,
  "nbformat": 4,
  "cells": [
    {
      "cell_type": "markdown",
      "source": "1)-> Database is architecture to used store the data in systamatic way and easy to redrive. Database having 2 category\na)sql\nb)no-sql\nsql is stand for structure query language and no-sql is stand for non structure query language.sql is useful for store structure data and nosql is used to store the non-structure data",
      "metadata": {},
      "id": "d490d335-1ceb-424d-b13a-dcf7008465b6"
    },
    {
      "cell_type": "markdown",
      "source": "2)-> DDL is stand for data defination language.In DDL consits four keywords create, show, drop, alter,Truncate.\n1)Create:- It used for create database or table.\ne.g:- create table if not exists employer(id int, name varchar(50), dept varchar(50));\n2)show:- It used for show database and table.\ne.g:- show databases;\n3)Drop:- drop command it used for delete table and it's attribute.\ne.g:- drop table employer;\n4)Alter:- alter command perform multiple operation like change column name,modify data type,rename table,add new column.\nalter table employer rename to new_employer;\n5)Truncate command are used to delete value inside the table leaving row.\ntruncate table employer;",
      "metadata": {},
      "id": "50b5d1ae-9cdd-4328-bab4-a14c2c7ec946"
    },
    {
      "cell_type": "markdown",
      "source": "3)->DML is stand for data manipulation language.Inside DML command consists insert, update and delete command.\n1)insert:- it used for insert record into table.\ne.g:- insert into employer(id,name,dept) values(1,\"Rohit\",\"CSE\"),(2,\"Mohan\",\"Mech\");\n2)update:- it used for update record present inside table with the help of set keyword.\ne.g:- update table employer set name=\"Ram\"\nwhere id=1;\n3)delete:- delete command it used for delete one or more record from table\ne.g:- delete from employer where \nname=\"Ram\";",
      "metadata": {},
      "id": "1f2da3ea-7f0b-40f5-a015-d7dcfb8f4bc2"
    },
    {
      "cell_type": "markdown",
      "source": "4)->DOL is stand for data query language and it consists select command.\n1)select command is used for redrive data from table.\ne.g:- select *from employer;",
      "metadata": {},
      "id": "62ac3980-049d-4236-a7cc-5dc62b9040ba"
    },
    {
      "cell_type": "markdown",
      "source": "5)->In structure query language present 6 types of constrains primery and foreign key is one of them.\n1)Primary key:- if any column is primary key then never data is null in primary key column.\n2)Foreign key:- it useful for join more than two table.",
      "metadata": {},
      "id": "074897ae-da7b-45e1-8d13-e0e859b5423c"
    },
    {
      "cell_type": "markdown",
      "source": "6)->Python code are connect with sql using following code.\nimport mysql.connector\nmydb = mysql.connector.connect(\n  host=\"localhost\",\n  user=\"abc\",\n  password=\"password\"\n)\nmycursor = mydb.cursor()\nmycursor.execute(\"create database college\")\nmydb.close()\n1)excute() :- this function are used for write query in sql format.\n2)cursor():- cursor it allows to perfrom operation on row and it hold row.",
      "metadata": {},
      "id": "e14c34dd-8fdf-4baf-a966-b3499b136edf"
    },
    {
      "cell_type": "markdown",
      "source": "7)-> order clause is command in sql and it used to decide excution order and it consists two keywords\na)AESC:- By default.\nb)DESC:-\ne.g:- select *from employer order by id desc;",
      "metadata": {},
      "id": "316cebf3-2609-4856-9a21-27536e0e4a49"
    }
  ]
}